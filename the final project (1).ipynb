{
 "cells": [
  {
   "cell_type": "code",
   "execution_count": 1,
   "id": "alone-richardson",
   "metadata": {
    "_cell_guid": "b1076dfc-b9ad-4769-8c92-a6c4dae69d19",
    "_uuid": "8f2839f25d086af736a60e9eeb907d3b93b6e0e5",
    "execution": {
     "iopub.execute_input": "2021-05-10T03:14:45.513912Z",
     "iopub.status.busy": "2021-05-10T03:14:45.513206Z",
     "iopub.status.idle": "2021-05-10T03:14:52.814993Z",
     "shell.execute_reply": "2021-05-10T03:14:52.815714Z"
    },
    "papermill": {
     "duration": 7.347615,
     "end_time": "2021-05-10T03:14:52.816012",
     "exception": false,
     "start_time": "2021-05-10T03:14:45.468397",
     "status": "completed"
    },
    "tags": []
   },
   "outputs": [],
   "source": [
    "import numpy as np #support for large, multi-dimensional arrays and matrices, along with a large collection of high-level mathematical functions to operate on these arrays.\n",
    "import pandas as pd #لمعالجة البيانات وتحليلها data manipulation and analysis.\n",
    "import matplotlib.pyplot as plt # إنشاء شكل ، وإنشاء منطقة رسم في شكل\n",
    "import pytesseract as Model #(OCR) tool , recognize and “read” the text embedded in images\n",
    "\n",
    "from sklearn.model_selection import train_test_split # validator Provides train/test\n",
    "import sklearn.metrics as metrics #Compute Area Under the Curve (AUC) using the trapezoidal rule.\n",
    "import cv2 #loads an image from the specified file.\n",
    "\n",
    "from keras.models import Sequential #Keras is a neural network  used to build machine learning models.\n",
    "from keras.layers import Dense, Dropout, Flatten, Conv2D, MaxPooling2D # building blocks of neural networks \n",
    "from keras.utils import np_utils #تحول متجه فئة (أعداد صحيحة) إلى مصفوفة فئة ثنائيه\n",
    "\n",
    "from keras.preprocessing.image import load_img\n",
    "from keras.preprocessing.image import save_img\n",
    "from keras.preprocessing.image import img_to_array\n",
    "from keras.models import load_model\n",
    "\n",
    "from pytesseract import Output\n",
    "\n",
    "%matplotlib inline"
   ]
  },
  {
   "cell_type": "code",
   "execution_count": 3,
   "id": "stainless-organizer",
   "metadata": {
    "_cell_guid": "79c7e3d0-c299-4dcb-8224-4455121ee9b0",
    "_uuid": "d629ff2d2480ee46fbb7e2d37f6b5fab8052498a",
    "execution": {
     "iopub.execute_input": "2021-05-10T03:14:52.886219Z",
     "iopub.status.busy": "2021-05-10T03:14:52.885522Z",
     "iopub.status.idle": "2021-05-10T03:16:19.716718Z",
     "shell.execute_reply": "2021-05-10T03:16:19.717273Z"
    },
    "papermill": {
     "duration": 86.867795,
     "end_time": "2021-05-10T03:16:19.717483",
     "exception": false,
     "start_time": "2021-05-10T03:14:52.849688",
     "status": "completed"
    },
    "tags": []
   },
   "outputs": [
    {
     "name": "stdout",
     "output_type": "stream",
     "text": [
      "Train: (697932, 785), Test: (116323, 785), Map: (62,)\n"
     ]
    }
   ],
   "source": [
    "train = pd.read_csv(\"archive/emnist-byclass-train.csv\",delimiter = ',', header=None)\n",
    "test = pd.read_csv(\"archive/emnist-byclass-test.csv\", delimiter = ',', header=None)\n",
    "mapp = pd.read_csv(\"archive/emnist-byclass-mapping.txt\", delimiter = ' ',index_col=0, header=None, squeeze=True)\n",
    "print(\"Train: %s, Test: %s, Map: %s\" %(train.shape, test.shape, mapp.shape))\n",
    "#print(mapp)\n",
    "\n",
    "#index_col is for which col we have to fix as key in mapp.\n",
    "#squeeze if true and only one column is passed, returns pandas series.\n",
    "#index_col هو العمود الذي يتعين علينا إصلاحه كمفتاح في الخريطة.\n",
    "#squeeze إذا كان true وتم تمرير عمود واحد فقط ، يتم إرجاع سلسلة الباندا."
   ]
  },
  {
   "cell_type": "code",
   "execution_count": 4,
   "id": "viral-respect",
   "metadata": {
    "execution": {
     "iopub.execute_input": "2021-05-10T03:16:19.793719Z",
     "iopub.status.busy": "2021-05-10T03:16:19.793022Z",
     "iopub.status.idle": "2021-05-10T03:16:19.798055Z",
     "shell.execute_reply": "2021-05-10T03:16:19.799054Z"
    },
    "papermill": {
     "duration": 0.048506,
     "end_time": "2021-05-10T03:16:19.799377",
     "exception": false,
     "start_time": "2021-05-10T03:16:19.750871",
     "status": "completed"
    },
    "tags": []
   },
   "outputs": [
    {
     "name": "stdout",
     "output_type": "stream",
     "text": [
      "Height: 28 Width: 28\n",
      "(697932, 784) (697932,) (116323, 784) (116323,)\n"
     ]
    }
   ],
   "source": [
    "HEIGHT = 28\n",
    "WIDTH = 28\n",
    "print(\"Height: %d\" %HEIGHT ,\"Width: %d\" %WIDTH)\n",
    "\n",
    "train_x = train.iloc[:,1:]#يختار العمود الاول\n",
    "train_y = train.iloc[:,0]\n",
    "#df.iloc [:، 0: 2] يختار الأعمدة حتى (باستثناء) العمود الثاني\n",
    "#df.iloc [:، 2] يختار العمود الثاني\n",
    "test_x = test.iloc[:,1:]\n",
    "test_y = test.iloc[:,0]\n",
    "#shape إيجاد أبعاد المصفوفة. تقوم بإرجاع الشكل\n",
    "print(train_x.shape,train_y.shape,test_x.shape,test_y.shape)"
   ]
  },
  {
   "cell_type": "code",
   "execution_count": 5,
   "id": "eastern-gibraltar",
   "metadata": {
    "execution": {
     "iopub.execute_input": "2021-05-10T03:16:19.878363Z",
     "iopub.status.busy": "2021-05-10T03:16:19.877652Z",
     "iopub.status.idle": "2021-05-10T03:16:20.725998Z",
     "shell.execute_reply": "2021-05-10T03:16:20.725356Z"
    },
    "papermill": {
     "duration": 0.891865,
     "end_time": "2021-05-10T03:16:20.726141",
     "exception": false,
     "start_time": "2021-05-10T03:16:19.834276",
     "status": "completed"
    },
    "tags": []
   },
   "outputs": [
    {
     "data": {
      "text/plain": [
       "Text(0.5, 1.0, 'Distribution of dataset')"
      ]
     },
     "execution_count": 5,
     "metadata": {},
     "output_type": "execute_result"
    },
    {
     "data": {
      "image/png": "[encoded data removed]",
      "text/plain": [
       "<Figure size 1080x576 with 1 Axes>"
      ]
     },
     "metadata": {
      "needs_background": "light"
     },
     "output_type": "display_data"
    }
   ],
   "source": [
    "unique, counts = np.unique(train_y, return_counts=True)\n",
    "s1=pd.Series(counts)   # import panda as pd \n",
    "plt.rcParams['figure.figsize']=(15,8) # import matplotlib.pyplot as plt \n",
    "s1.plot.bar(color='g' , width=0.6 ,rot=0) # design\n",
    "x = ['0','1','2','3','4','5','6','7','8','9','A','B','C','D','E','F','G','H','I','J','K','L','M','N','O','P','Q','R','S','T','U','V','W','X','Y','Z','a','b','c','d','e','f','g','h','i','j','k','l','m','n','o','p','q','r','s','t','u','v','w','x','y','z'] # data \n",
    "xi = list(range(len(x)))\n",
    "#plt.bar(unique, counts, marker='o', linestyle='--' , color='g' , width=0.6)\n",
    "plt.xticks(xi,x)#  لإزالة علامات التجزئة عند المحور السيني remove of ticks labels at the x-axis \n",
    "#the stile Color Label Printers\n",
    "# التنبؤ إلى حد بعيد  Prediction by far\n",
    "#تفسير بسيط حول البيانات عدد المرات التي تحدث فيها قيمة البيانات\n",
    "plt.xlabel(\"Label\") \n",
    "plt.ylabel(\"Quantity\") \n",
    "plt.title(\"Distribution of dataset\") #  تفسير بسيط حول البيانات عدد المرات التي تحدث فيها قيمة البيانات"
   ]
  },
  {
   "cell_type": "code",
   "execution_count": 6,
   "id": "ahead-constitution",
   "metadata": {
    "execution": {
     "iopub.execute_input": "2021-05-10T03:16:20.803619Z",
     "iopub.status.busy": "2021-05-10T03:16:20.802605Z",
     "iopub.status.idle": "2021-05-10T03:16:20.806289Z",
     "shell.execute_reply": "2021-05-10T03:16:20.805646Z"
    },
    "papermill": {
     "duration": 0.044235,
     "end_time": "2021-05-10T03:16:20.806427",
     "exception": false,
     "start_time": "2021-05-10T03:16:20.762192",
     "status": "completed"
    },
    "tags": []
   },
   "outputs": [],
   "source": [
    "#تبدأ مجموعات الوظائف بالكلمة الأساسية def متبوعة باسم الوظيفة والأقواس\n",
    "def flip_and_rotate(image):\n",
    "    image = image.reshape([HEIGHT, WIDTH])#إعادة تشكيل على طول أبعاد مختلفة.\n",
    "    image = np.fliplr(image)   #لعكس ترتيب عناصر المصفوفة\n",
    "    image = np.rot90(image)   #ثلاث معاملات وتقوم بإرجاع النسخة التي تم تدويرها\n",
    "    return image\n",
    "# Flip and rotate dataset image\n",
    "# axis=1 means along X axis"
   ]
  },
  {
   "cell_type": "code",
   "execution_count": 7,
   "id": "frank-major",
   "metadata": {
    "execution": {
     "iopub.execute_input": "2021-05-10T03:16:20.892382Z",
     "iopub.status.busy": "2021-05-10T03:16:20.891665Z",
     "iopub.status.idle": "2021-05-10T03:16:46.260140Z",
     "shell.execute_reply": "2021-05-10T03:16:46.259595Z"
    },
    "papermill": {
     "duration": 25.418143,
     "end_time": "2021-05-10T03:16:46.260302",
     "exception": false,
     "start_time": "2021-05-10T03:16:20.842159",
     "status": "completed"
    },
    "tags": []
   },
   "outputs": [
    {
     "name": "stdout",
     "output_type": "stream",
     "text": [
      "train_x: (697932, 28, 28)\n"
     ]
    }
   ],
   "source": [
    "train_x = np.asarray(train_x) #عند الحاجة إلى تحويل مُدخل إلى مصفوفة.\n",
    "train_x = np.apply_along_axis(flip_and_rotate, 1, train_x) #لتطبيق وظيفة على الشرائح 1-D على طول المحور المحدد\n",
    "print (\"train_x:\",train_x.shape)\n",
    "train_x = train_x.astype('float32')\n",
    "train_x /= 255.0"
   ]
  },
  {
   "cell_type": "code",
   "execution_count": 8,
   "id": "upper-version",
   "metadata": {
    "execution": {
     "iopub.execute_input": "2021-05-10T03:16:46.338874Z",
     "iopub.status.busy": "2021-05-10T03:16:46.338092Z",
     "iopub.status.idle": "2021-05-10T03:16:50.035852Z",
     "shell.execute_reply": "2021-05-10T03:16:50.034983Z"
    },
    "papermill": {
     "duration": 3.739619,
     "end_time": "2021-05-10T03:16:50.036066",
     "exception": false,
     "start_time": "2021-05-10T03:16:46.296447",
     "status": "completed"
    },
    "tags": []
   },
   "outputs": [
    {
     "name": "stdout",
     "output_type": "stream",
     "text": [
      "test_x: (116323, 28, 28)\n"
     ]
    }
   ],
   "source": [
    "test_x = np.asarray(test_x)\n",
    "test_x = np.apply_along_axis(flip_and_rotate, 1, test_x)\n",
    "print (\"test_x:\",test_x.shape)\n",
    "test_x = test_x.astype('float32')\n",
    "test_x /= 255.0"
   ]
  },
  {
   "cell_type": "code",
   "execution_count": 9,
   "id": "helpful-chance",
   "metadata": {
    "execution": {
     "iopub.execute_input": "2021-05-10T03:16:50.143514Z",
     "iopub.status.busy": "2021-05-10T03:16:50.134964Z",
     "iopub.status.idle": "2021-05-10T03:16:51.181360Z",
     "shell.execute_reply": "2021-05-10T03:16:51.180180Z"
    },
    "papermill": {
     "duration": 1.108171,
     "end_time": "2021-05-10T03:16:51.181556",
     "exception": false,
     "start_time": "2021-05-10T03:16:50.073385",
     "status": "completed"
    },
    "tags": []
   },
   "outputs": [
    {
     "data": {
      "image/png": "[encoded data removed]",
      "text/plain": [
       "<Figure size 504x288 with 9 Axes>"
      ]
     },
     "metadata": {
      "needs_background": "light"
     },
     "output_type": "display_data"
    }
   ],
   "source": [
    "# plot image\n",
    "plt.rcParams['figure.figsize']=(7,4) #يمكننا استخدامه للتحكم في الإعدادات الافتراضية عرض الخط واللون والنمط \n",
    "for i in range(1,10):\n",
    "    plt.subplot(3,3,i) #(subplot)لإنشاء شكل ومجموعة من الحبكات الفرعية.\n",
    "    plt.imshow(train_x[i], cmap=plt.get_cmap('gray')) #لتعيين خريطة الألوان على \"الرمادي\n",
    "    plt.title(chr(mapp[train_y[i]]))\n",
    "plt.tight_layout()"
   ]
  },
  {
   "cell_type": "code",
   "execution_count": 10,
   "id": "functioning-associate",
   "metadata": {
    "execution": {
     "iopub.execute_input": "2021-05-10T03:16:51.263411Z",
     "iopub.status.busy": "2021-05-10T03:16:51.262729Z",
     "iopub.status.idle": "2021-05-10T03:16:51.279213Z",
     "shell.execute_reply": "2021-05-10T03:16:51.278618Z"
    },
    "papermill": {
     "duration": 0.059934,
     "end_time": "2021-05-10T03:16:51.279362",
     "exception": false,
     "start_time": "2021-05-10T03:16:51.219428",
     "status": "completed"
    },
    "tags": []
   },
   "outputs": [
    {
     "name": "stdout",
     "output_type": "stream",
     "text": [
      "number of classes:- 62\n"
     ]
    }
   ],
   "source": [
    "num_classes = train_y.nunique() #عدد القيم الفريدة لكل عمود\n",
    "print(\"number of classes:- \"+str(num_classes))"
   ]
  },
  {
   "cell_type": "code",
   "execution_count": 11,
   "id": "occupied-comparison",
   "metadata": {
    "execution": {
     "iopub.execute_input": "2021-05-10T03:16:51.362041Z",
     "iopub.status.busy": "2021-05-10T03:16:51.361255Z",
     "iopub.status.idle": "2021-05-10T03:16:51.420279Z",
     "shell.execute_reply": "2021-05-10T03:16:51.419554Z"
    },
    "papermill": {
     "duration": 0.101876,
     "end_time": "2021-05-10T03:16:51.420430",
     "exception": false,
     "start_time": "2021-05-10T03:16:51.318554",
     "status": "completed"
    },
    "tags": []
   },
   "outputs": [
    {
     "name": "stdout",
     "output_type": "stream",
     "text": [
      "train_y:  (697932, 62)\n",
      "test_y:  (116323, 62)\n"
     ]
    }
   ],
   "source": [
    "# One hot encoding\n",
    "train_y = np_utils.to_categorical(train_y, num_classes) #تحويل متجه الفئة (أعداد صحيحة من 0 إلى nb_classes) إلى مصفوفة فئة ثنائية\n",
    "test_y = np_utils.to_categorical(test_y, num_classes)\n",
    "print(\"train_y: \", train_y.shape)\n",
    "print(\"test_y: \", test_y.shape)"
   ]
  },
  {
   "cell_type": "code",
   "execution_count": 12,
   "id": "foreign-scale",
   "metadata": {
    "execution": {
     "iopub.execute_input": "2021-05-10T03:16:51.505379Z",
     "iopub.status.busy": "2021-05-10T03:16:51.504708Z",
     "iopub.status.idle": "2021-05-10T03:16:51.507848Z",
     "shell.execute_reply": "2021-05-10T03:16:51.508361Z"
    },
    "papermill": {
     "duration": 0.049101,
     "end_time": "2021-05-10T03:16:51.508557",
     "exception": false,
     "start_time": "2021-05-10T03:16:51.459456",
     "status": "completed"
    },
    "tags": []
   },
   "outputs": [
    {
     "name": "stdout",
     "output_type": "stream",
     "text": [
      "train_y:  (697932, 28, 28, 1)\n",
      "test_y:  (116323, 28, 28, 1)\n"
     ]
    }
   ],
   "source": [
    "# Reshape image  إعادة تشكيل الصورة لـ \n",
    "train_x = train_x.reshape(-1, HEIGHT, WIDTH, 1) #تستخدم TensorFlow backend\n",
    "test_x = test_x.reshape(-1, HEIGHT, WIDTH, 1)     # defolt (..,h,w,1)\n",
    "print(\"train_y: \", train_x.shape)\n",
    "print(\"test_y: \", test_x.shape)\n",
    "\n",
    "#-1 for unknown dimension لبعد غير معروف"
   ]
  },
  {
   "cell_type": "code",
   "execution_count": 13,
   "id": "simplified-disney",
   "metadata": {
    "execution": {
     "iopub.execute_input": "2021-05-10T03:16:51.591016Z",
     "iopub.status.busy": "2021-05-10T03:16:51.590313Z",
     "iopub.status.idle": "2021-05-10T03:16:52.328893Z",
     "shell.execute_reply": "2021-05-10T03:16:52.328121Z"
    },
    "papermill": {
     "duration": 0.780681,
     "end_time": "2021-05-10T03:16:52.329044",
     "exception": false,
     "start_time": "2021-05-10T03:16:51.548363",
     "status": "completed"
    },
    "tags": []
   },
   "outputs": [],
   "source": [
    "train_x, val_x, train_y, val_y = train_test_split(train_x, train_y, test_size= 0.3, random_state=1)"
   ]
  },
  {
   "cell_type": "code",
   "execution_count": 14,
   "id": "super-grant",
   "metadata": {
    "execution": {
     "iopub.execute_input": "2021-05-10T03:16:52.416388Z",
     "iopub.status.busy": "2021-05-10T03:16:52.415709Z",
     "iopub.status.idle": "2021-05-10T03:16:52.604655Z",
     "shell.execute_reply": "2021-05-10T03:16:52.605199Z"
    },
    "papermill": {
     "duration": 0.237076,
     "end_time": "2021-05-10T03:16:52.605382",
     "exception": false,
     "start_time": "2021-05-10T03:16:52.368306",
     "status": "completed"
    },
    "tags": []
   },
   "outputs": [
    {
     "name": "stdout",
     "output_type": "stream",
     "text": [
      "Model: \"sequential\"\n",
      "_________________________________________________________________\n",
      "Layer (type)                 Output Shape              Param #   \n",
      "=================================================================\n",
      "conv2d (Conv2D)              (None, 28, 28, 128)       1280      \n",
      "_________________________________________________________________\n",
      "max_pooling2d (MaxPooling2D) (None, 9, 9, 128)         0         \n",
      "_________________________________________________________________\n",
      "conv2d_1 (Conv2D)            (None, 9, 9, 64)          73792     \n",
      "_________________________________________________________________\n",
      "max_pooling2d_1 (MaxPooling2 (None, 3, 3, 64)          0         \n",
      "_________________________________________________________________\n",
      "flatten (Flatten)            (None, 576)               0         \n",
      "_________________________________________________________________\n",
      "dense (Dense)                (None, 128)               73856     \n",
      "_________________________________________________________________\n",
      "dropout (Dropout)            (None, 128)               0         \n",
      "_________________________________________________________________\n",
      "dense_1 (Dense)              (None, 62)                7998      \n",
      "=================================================================\n",
      "Total params: 156,926\n",
      "Trainable params: 156,926\n",
      "Non-trainable params: 0\n",
      "_________________________________________________________________\n"
     ]
    }
   ],
   "source": [
    "# Building model\n",
    "\n",
    "model = Sequential()\n",
    "#padding= 'same' / 'valid'\n",
    "model.add(Conv2D(filters=128, kernel_size=(3,3), padding = 'same', activation='relu',input_shape=(HEIGHT, WIDTH,1)))\n",
    "model.add(MaxPooling2D(pool_size=(3,3), strides=3))\n",
    "model.add(Conv2D(filters=64, kernel_size=(3,3), padding = 'same', activation='relu'))\n",
    "model.add(MaxPooling2D(pool_size=(3,3), strides=3))\n",
    "\n",
    "model.add(Flatten())\n",
    "model.add(Dense(units=128, activation='relu'))\n",
    "model.add(Dropout(0.5))\n",
    "model.add(Dense(units=num_classes, activation='softmax'))\n",
    "\n",
    "model.summary()"
   ]
  },
  {
   "cell_type": "code",
   "execution_count": 15,
   "id": "naughty-leone",
   "metadata": {
    "execution": {
     "iopub.execute_input": "2021-05-10T03:16:52.729658Z",
     "iopub.status.busy": "2021-05-10T03:16:52.728767Z",
     "iopub.status.idle": "2021-05-10T04:10:35.548518Z",
     "shell.execute_reply": "2021-05-10T04:10:35.549109Z"
    },
    "papermill": {
     "duration": 3222.888877,
     "end_time": "2021-05-10T04:10:35.549308",
     "exception": false,
     "start_time": "2021-05-10T03:16:52.660431",
     "status": "completed"
    },
    "tags": []
   },
   "outputs": [
    {
     "name": "stdout",
     "output_type": "stream",
     "text": [
      "Epoch 1/5\n",
      "3817/3817 [==============================] - 581s 152ms/step - loss: 0.8938 - accuracy: 0.7286 - val_loss: 0.4719 - val_accuracy: 0.8346\n",
      "Epoch 2/5\n",
      "3817/3817 [==============================] - 565s 148ms/step - loss: 0.5991 - accuracy: 0.8017 - val_loss: 0.4273 - val_accuracy: 0.8479\n",
      "Epoch 3/5\n",
      "3817/3817 [==============================] - 562s 147ms/step - loss: 0.5498 - accuracy: 0.8158 - val_loss: 0.4158 - val_accuracy: 0.8514\n",
      "Epoch 4/5\n",
      "3817/3817 [==============================] - 562s 147ms/step - loss: 0.5233 - accuracy: 0.8230 - val_loss: 0.4062 - val_accuracy: 0.8546\n",
      "Epoch 5/5\n",
      "3817/3817 [==============================] - 559s 146ms/step - loss: 0.5082 - accuracy: 0.8274 - val_loss: 0.4013 - val_accuracy: 0.8563\n"
     ]
    }
   ],
   "source": [
    "model.compile(loss='categorical_crossentropy', optimizer='adam', metrics=['accuracy'])\n",
    "#لحساب الخسارة التبادلية بين التسميات والتنبؤات\n",
    "#التحسين في التعليمات\n",
    "history = model.fit(train_x, train_y, epochs=5, batch_size=128, verbose=1, validation_data=(val_x, val_y)) #يمكن استخدامه للتحقق مما إذا كان نوع بيانات الإدخال صحيحًا أم لا.\n",
    "#Verbose=0 (silent)\n",
    "#Verbose=1 (progress bar)\n",
    "#Verbose=2 (one line per epoch)\n"
   ]
  },
  {
   "cell_type": "code",
   "execution_count": 16,
   "id": "preliminary-bible",
   "metadata": {
    "execution": {
     "iopub.execute_input": "2021-05-10T04:10:47.641239Z",
     "iopub.status.busy": "2021-05-10T04:10:47.640374Z",
     "iopub.status.idle": "2021-05-10T04:10:47.644725Z",
     "shell.execute_reply": "2021-05-10T04:10:47.644181Z"
    },
    "papermill": {
     "duration": 6.070024,
     "end_time": "2021-05-10T04:10:47.644873",
     "exception": false,
     "start_time": "2021-05-10T04:10:41.574849",
     "status": "completed"
    },
    "tags": []
   },
   "outputs": [],
   "source": [
    "# plot accuracy and loss\n",
    "def plotgraph(epochs, acc, val_acc):\n",
    "    # Plot training & validation accuracy values\n",
    "    plt.plot(epochs, acc, 'b')\n",
    "    plt.plot(epochs, val_acc, 'r')\n",
    "    plt.title('Model accuracy')\n",
    "    plt.ylabel('Accuracy')\n",
    "    plt.xlabel('Epoch')\n",
    "    plt.legend(['Training', 'Validation'], loc='upper left') #أبسط وسيلة إيضاح\n",
    "    plt.show()\n",
    "\n",
    "# plot accuracy and loss\n",
    "def plotgraph1(epochs, loss, val_loss):\n",
    "    # Plot training & validation accuracy values\n",
    "    plt.plot(epochs, loss, 'b')\n",
    "    plt.plot(epochs, val_loss, 'r')\n",
    "    plt.title('Model loss')\n",
    "    plt.ylabel('loss')\n",
    "    plt.xlabel('Epoch')\n",
    "    plt.legend(['Training', 'Validation'], loc='upper left')\n",
    "    plt.show()"
   ]
  },
  {
   "cell_type": "code",
   "execution_count": 17,
   "id": "governing-investigation",
   "metadata": {
    "execution": {
     "iopub.execute_input": "2021-05-10T04:10:59.729206Z",
     "iopub.status.busy": "2021-05-10T04:10:59.728354Z",
     "iopub.status.idle": "2021-05-10T04:10:59.731561Z",
     "shell.execute_reply": "2021-05-10T04:10:59.730916Z"
    },
    "papermill": {
     "duration": 5.973645,
     "end_time": "2021-05-10T04:10:59.731699",
     "exception": false,
     "start_time": "2021-05-10T04:10:53.758054",
     "status": "completed"
    },
    "tags": []
   },
   "outputs": [],
   "source": [
    "#%%\n",
    "acc = history.history['accuracy']\n",
    "val_acc = history.history['val_accuracy']\n",
    "\n",
    "loss = history.history['loss']\n",
    "val_loss = history.history['val_loss']\n",
    "epochs = range(1,len(acc)+1) #تحدد عدد المرات التي ستعمل فيها خوارزمية التعلم من خلال مجموعة بيانات التدريب بأكمله"
   ]
  },
  {
   "cell_type": "code",
   "execution_count": 18,
   "id": "prospective-store",
   "metadata": {
    "execution": {
     "iopub.execute_input": "2021-05-10T04:11:11.702829Z",
     "iopub.status.busy": "2021-05-10T04:11:11.702098Z",
     "iopub.status.idle": "2021-05-10T04:11:12.051806Z",
     "shell.execute_reply": "2021-05-10T04:11:12.051006Z"
    },
    "papermill": {
     "duration": 6.352539,
     "end_time": "2021-05-10T04:11:12.051984",
     "exception": false,
     "start_time": "2021-05-10T04:11:05.699445",
     "status": "completed"
    },
    "tags": []
   },
   "outputs": [
    {
     "data": {
      "image/png": "[encoded data removed]",
      "text/plain": [
       "<Figure size 504x288 with 1 Axes>"
      ]
     },
     "metadata": {
      "needs_background": "light"
     },
     "output_type": "display_data"
    },
    {
     "data": {
      "image/png": "[encoded data removed]",
      "text/plain": [
       "<Figure size 504x288 with 1 Axes>"
      ]
     },
     "metadata": {
      "needs_background": "light"
     },
     "output_type": "display_data"
    }
   ],
   "source": [
    "# Accuracy curve\n",
    "plotgraph(epochs, acc, val_acc)\n",
    "\n",
    "# loss curve\n",
    "plotgraph1(epochs, loss, val_loss)"
   ]
  },
  {
   "cell_type": "code",
   "execution_count": 19,
   "id": "acoustic-procedure",
   "metadata": {
    "execution": {
     "iopub.execute_input": "2021-05-10T04:11:25.292600Z",
     "iopub.status.busy": "2021-05-10T04:11:24.036821Z",
     "iopub.status.idle": "2021-05-10T04:12:04.583147Z",
     "shell.execute_reply": "2021-05-10T04:12:04.582606Z"
    },
    "papermill": {
     "duration": 46.555156,
     "end_time": "2021-05-10T04:12:04.583304",
     "exception": false,
     "start_time": "2021-05-10T04:11:18.028148",
     "status": "completed"
    },
    "tags": []
   },
   "outputs": [
    {
     "name": "stdout",
     "output_type": "stream",
     "text": [
      "3636/3636 [==============================] - 38s 10ms/step - loss: 0.3992 - accuracy: 0.8554\n",
      "Test loss: 0.3991658389568329\n",
      "Test accuracy: 0.8554198145866394\n"
     ]
    }
   ],
   "source": [
    "score = model.evaluate(test_x, test_y, verbose=1) #التقييم هو عملية أثناء تطوير النموذج للتحقق مما إذا كان النموذج هو الأنسب للمشكلة المعينة والبيانات المقابلة. يوفر نموذج Keras وظيفة\n",
    "print(\"Test loss:\", score[0])\n",
    "print(\"Test accuracy:\", score[1])"
   ]
  },
  {
   "cell_type": "code",
   "execution_count": 20,
   "id": "intelligent-sample",
   "metadata": {
    "execution": {
     "iopub.execute_input": "2021-05-10T04:12:17.628655Z",
     "iopub.status.busy": "2021-05-10T04:12:17.627417Z",
     "iopub.status.idle": "2021-05-10T04:12:52.358946Z",
     "shell.execute_reply": "2021-05-10T04:12:52.358385Z"
    },
    "papermill": {
     "duration": 41.539377,
     "end_time": "2021-05-10T04:12:52.359093",
     "exception": false,
     "start_time": "2021-05-10T04:12:10.819716",
     "status": "completed"
    },
    "tags": []
   },
   "outputs": [
    {
     "name": "stdout",
     "output_type": "stream",
     "text": [
      "[[False  True False ... False False False]\n",
      " [False False False ... False False False]\n",
      " [ True False False ... False False False]\n",
      " ...\n",
      " [False False False ... False False False]\n",
      " [False False False ... False False False]\n",
      " [False False False ... False False False]]\n",
      "(116323, 62)\n"
     ]
    }
   ],
   "source": [
    "y_pred = model.predict(test_x)\n",
    "y_pred = (y_pred > 0.5) #قارن الآن قيم المخرجات الفعلي\n",
    "print(y_pred)\n",
    "print(y_pred.shape)"
   ]
  },
  {
   "cell_type": "code",
   "execution_count": 21,
   "id": "filled-gazette",
   "metadata": {
    "execution": {
     "iopub.execute_input": "2021-05-10T04:13:04.807882Z",
     "iopub.status.busy": "2021-05-10T04:13:04.807215Z",
     "iopub.status.idle": "2021-05-10T04:13:05.053772Z",
     "shell.execute_reply": "2021-05-10T04:13:05.052741Z"
    },
    "papermill": {
     "duration": 6.420572,
     "end_time": "2021-05-10T04:13:05.053990",
     "exception": false,
     "start_time": "2021-05-10T04:12:58.633418",
     "status": "completed"
    },
    "tags": []
   },
   "outputs": [
    {
     "name": "stdout",
     "output_type": "stream",
     "text": [
      "[[4968    1    0 ...    0    0    0]\n",
      " [ 649 5593   10 ...    0    0    0]\n",
      " [  94    1 5700 ...    0    0   13]\n",
      " ...\n",
      " [  34    0    1 ...  334    0    0]\n",
      " [  82    0    0 ...    0    7    0]\n",
      " [ 117    0  103 ...    0    0  156]]\n",
      "(62, 62)\n",
      "total sample of 0 = 5778 & Accuracy of detection of 0 = 0.8598130841121495\n",
      "total sample of 1 = 6330 & Accuracy of detection of 1 = 0.8835703001579779\n",
      "total sample of 2 = 5869 & Accuracy of detection of 2 = 0.9712046345203612\n",
      "total sample of 3 = 5969 & Accuracy of detection of 3 = 0.9855922265036019\n",
      "total sample of 4 = 5619 & Accuracy of detection of 4 = 0.9597793201637302\n",
      "total sample of 5 = 5190 & Accuracy of detection of 5 = 0.892485549132948\n",
      "total sample of 6 = 5705 & Accuracy of detection of 6 = 0.9810692375109553\n",
      "total sample of 7 = 6139 & Accuracy of detection of 7 = 0.992018244013683\n",
      "total sample of 8 = 5633 & Accuracy of detection of 8 = 0.9772767619385763\n",
      "total sample of 9 = 5686 & Accuracy of detection of 9 = 0.9766092156173056\n",
      "total sample of A = 1062 & Accuracy of detection of A = 0.931261770244821\n",
      "total sample of B = 648 & Accuracy of detection of B = 0.8765432098765432\n",
      "total sample of C = 1739 & Accuracy of detection of C = 0.9344450833812536\n",
      "total sample of D = 779 & Accuracy of detection of D = 0.8215661103979461\n",
      "total sample of E = 851 & Accuracy of detection of E = 0.936545240893067\n",
      "total sample of F = 1440 & Accuracy of detection of F = 0.925\n",
      "total sample of G = 447 & Accuracy of detection of G = 0.8053691275167785\n",
      "total sample of H = 521 & Accuracy of detection of H = 0.8656429942418427\n",
      "total sample of I = 2048 & Accuracy of detection of I = 0.2080078125\n",
      "total sample of J = 626 & Accuracy of detection of J = 0.7971246006389776\n",
      "total sample of K = 382 & Accuracy of detection of K = 0.7722513089005235\n",
      "total sample of L = 810 & Accuracy of detection of L = 0.9432098765432099\n",
      "total sample of M = 1485 & Accuracy of detection of M = 0.9750841750841751\n",
      "total sample of N = 1351 & Accuracy of detection of N = 0.9814951887490747\n",
      "total sample of O = 4156 & Accuracy of detection of O = 0.4833974975938402\n",
      "total sample of P = 1397 & Accuracy of detection of P = 0.9477451682176091\n",
      "total sample of Q = 413 & Accuracy of detection of Q = 0.8208232445520581\n",
      "total sample of R = 809 & Accuracy of detection of R = 0.9196538936959209\n",
      "total sample of S = 3508 & Accuracy of detection of S = 0.9549600912200684\n",
      "total sample of T = 1576 & Accuracy of detection of T = 0.916243654822335\n",
      "total sample of U = 2002 & Accuracy of detection of U = 0.9355644355644356\n",
      "total sample of V = 796 & Accuracy of detection of V = 0.8040201005025126\n",
      "total sample of W = 806 & Accuracy of detection of W = 0.858560794044665\n",
      "total sample of X = 432 & Accuracy of detection of X = 0.6782407407407407\n",
      "total sample of Y = 798 & Accuracy of detection of Y = 0.8132832080200502\n",
      "total sample of Z = 464 & Accuracy of detection of Z = 0.5\n",
      "total sample of a = 1644 & Accuracy of detection of a = 0.8692214111922141\n",
      "total sample of b = 853 & Accuracy of detection of b = 0.7749120750293084\n",
      "total sample of c = 432 & Accuracy of detection of c = 0.0\n",
      "total sample of d = 1683 & Accuracy of detection of d = 0.9667260843731432\n",
      "total sample of e = 4092 & Accuracy of detection of e = 0.9645650048875856\n",
      "total sample of f = 400 & Accuracy of detection of f = 0.0\n",
      "total sample of g = 589 & Accuracy of detection of g = 0.3225806451612903\n",
      "total sample of h = 1479 & Accuracy of detection of h = 0.914131169709263\n",
      "total sample of i = 427 & Accuracy of detection of i = 0.3372365339578454\n",
      "total sample of j = 317 & Accuracy of detection of j = 0.5678233438485805\n",
      "total sample of k = 466 & Accuracy of detection of k = 0.45278969957081544\n",
      "total sample of l = 2535 & Accuracy of detection of l = 0.03865877712031558\n",
      "total sample of m = 464 & Accuracy of detection of m = 0.0\n",
      "total sample of n = 1898 & Accuracy of detection of n = 0.934668071654373\n",
      "total sample of o = 466 & Accuracy of detection of o = 0.0\n",
      "total sample of p = 368 & Accuracy of detection of p = 0.035326086956521736\n",
      "total sample of q = 505 & Accuracy of detection of q = 0.09306930693069307\n",
      "total sample of r = 2320 & Accuracy of detection of r = 0.9525862068965517\n",
      "total sample of s = 437 & Accuracy of detection of s = 0.0\n",
      "total sample of t = 2965 & Accuracy of detection of t = 0.9264755480607083\n",
      "total sample of u = 482 & Accuracy of detection of u = 0.002074688796680498\n",
      "total sample of v = 468 & Accuracy of detection of v = 0.017094017094017096\n",
      "total sample of w = 467 & Accuracy of detection of w = 0.4582441113490364\n",
      "total sample of x = 470 & Accuracy of detection of x = 0.7106382978723405\n",
      "total sample of y = 381 & Accuracy of detection of y = 0.01837270341207349\n",
      "total sample of z = 451 & Accuracy of detection of z = 0.3458980044345898\n"
     ]
    }
   ],
   "source": [
    "cm = metrics.confusion_matrix(test_y.argmax(axis=1), y_pred.argmax(axis=1)) #To create a confusion matrix for a logistic regression model  #return the indices of the elements \n",
    "print(cm)\n",
    "print(cm.shape)\n",
    "sum=0\n",
    "for i in range(62) : \n",
    "    for j in range(62) : \n",
    "        sum += cm[i][j] \n",
    "    print(\"total sample of\",chr(mapp[i]),\"=\",sum,\"& Accuracy of detection of\",chr(mapp[i]),\"=\",cm[i][i]/sum) #3\n",
    "    sum = 0"
   ]
  },
  {
   "cell_type": "code",
   "execution_count": 38,
   "id": "increasing-track",
   "metadata": {
    "execution": {
     "iopub.execute_input": "2021-05-10T04:13:17.547928Z",
     "iopub.status.busy": "2021-05-10T04:13:17.547088Z",
     "iopub.status.idle": "2021-05-10T04:13:17.785703Z",
     "shell.execute_reply": "2021-05-10T04:13:17.785004Z"
    },
    "papermill": {
     "duration": 6.470165,
     "end_time": "2021-05-10T04:13:17.785865",
     "exception": false,
     "start_time": "2021-05-10T04:13:11.315700",
     "status": "completed"
    },
    "tags": []
   },
   "outputs": [
    {
     "name": "stdout",
     "output_type": "stream",
     "text": [
      "text written in image is:\n",
      "D\n"
     ]
    },
    {
     "data": {
      "image/png": "[encoded data removed]",
      "text/plain": [
       "<Figure size 504x288 with 1 Axes>"
      ]
     },
     "metadata": {
      "needs_background": "light"
     },
     "output_type": "display_data"
    }
   ],
   "source": [
    "'''single letter prediction'''\n",
    "img = load_img('D.jpeg', grayscale=True,   #تحويل صورتنا الأصلية من مساحة ألوان BGR إلى اللون الرمادي\n",
    "               target_size=(28, 28))\n",
    "\n",
    "plt.imshow(img)\n",
    "\n",
    "img = img_to_array(img)\n",
    "img = img.reshape(1, 28, 28, 1)\n",
    "img = img.astype('float32') #تحويل كائن الباندا إلى نوع بيانات محدد\n",
    "img = img / 255.0\n",
    "\n",
    "#model = load_model('final_model.h5')\n",
    "digit = np.argmax(model.predict(img), axis=-1)\n",
    "print(\"text written in image is:\")\n",
    "print(chr(mapp[digit[0]]))"
   ]
  },
  {
   "cell_type": "code",
   "execution_count": 24,
   "id": "smooth-enzyme",
   "metadata": {
    "execution": {
     "iopub.execute_input": "2021-05-10T04:13:30.212094Z",
     "iopub.status.busy": "2021-05-10T04:13:30.198796Z",
     "iopub.status.idle": "2021-05-10T04:13:30.232410Z",
     "shell.execute_reply": "2021-05-10T04:13:30.231799Z"
    },
    "papermill": {
     "duration": 6.263997,
     "end_time": "2021-05-10T04:13:30.232639",
     "exception": false,
     "start_time": "2021-05-10T04:13:23.968642",
     "status": "completed"
    },
    "tags": []
   },
   "outputs": [],
   "source": [
    "\n",
    "from keras.models import load_model\n",
    "from keras.models import model_from_json\n",
    "\n",
    "model_json = model.to_json()\n",
    "with open(\"./model.json\", \"w\") as json_file:\n",
    "    json_file.write(model_json)\n",
    "#saves the model info as json file\n",
    "    \n",
    "model.save_weights(\"./model.h5\")\n",
    "# Creates a HDF5 file 'model.h5'\n"
   ]
  },
  {
   "cell_type": "code",
   "execution_count": 25,
   "id": "lesbian-quality",
   "metadata": {
    "execution": {
     "iopub.execute_input": "2021-05-10T04:13:42.671592Z",
     "iopub.status.busy": "2021-05-10T04:13:42.663647Z",
     "iopub.status.idle": "2021-05-10T04:13:42.734054Z",
     "shell.execute_reply": "2021-05-10T04:13:42.732603Z"
    },
    "papermill": {
     "duration": 6.343975,
     "end_time": "2021-05-10T04:13:42.734214",
     "exception": false,
     "start_time": "2021-05-10T04:13:36.390239",
     "status": "completed"
    },
    "tags": []
   },
   "outputs": [
    {
     "name": "stdout",
     "output_type": "stream",
     "text": [
      "Model successfully loaded\n"
     ]
    }
   ],
   "source": [
    "\n",
    "from keras.models import load_model\n",
    "from keras.models import model_from_json\n",
    "\n",
    "json_file = open('./model.json', 'r')\n",
    "loaded_model_json = json_file.read()\n",
    "json_file.close()\n",
    "loaded_model = model_from_json(loaded_model_json)\n",
    "\n",
    "loaded_model.load_weights('./model.h5')\n",
    "\n",
    "model = loaded_model\n",
    "\n",
    "print('Model successfully loaded')\n"
   ]
  },
  {
   "cell_type": "code",
   "execution_count": 39,
   "id": "electronic-neutral",
   "metadata": {
    "execution": {
     "iopub.execute_input": "2021-05-10T04:13:55.218806Z",
     "iopub.status.busy": "2021-05-10T04:13:55.213615Z",
     "iopub.status.idle": "2021-05-10T04:13:55.635808Z",
     "shell.execute_reply": "2021-05-10T04:13:55.635192Z"
    },
    "papermill": {
     "duration": 6.635087,
     "end_time": "2021-05-10T04:13:55.635954",
     "exception": false,
     "start_time": "2021-05-10T04:13:49.000867",
     "status": "completed"
    },
    "tags": []
   },
   "outputs": [
    {
     "name": "stdout",
     "output_type": "stream",
     "text": [
      "threshold value 127.0\n"
     ]
    },
    {
     "data": {
      "text/plain": [
       "<matplotlib.image.AxesImage at 0x1cd1f4a3310>"
      ]
     },
     "execution_count": 39,
     "metadata": {},
     "output_type": "execute_result"
    },
    {
     "data": {
      "image/png": "[encoded data removed]",
      "text/plain": [
       "<Figure size 504x288 with 1 Axes>"
      ]
     },
     "metadata": {
      "needs_background": "light"
     },
     "output_type": "display_data"
    }
   ],
   "source": [
    "characters = ['0','1','2','3','4','5','6','7','8','9','A','B','C','D','E','F','G','H','I','J','K','L','M','N','O','P','Q','R','S','T','U','V','W','X','Y','Z','a','b','c','d','e','f','g','h','i','j','k','l','m','n','o','p','q','r','s','t','u','v','w','x','y','z']\n",
    "\n",
    "image = cv2.imread(\"images.png\")\n",
    "height, width, depth = image.shape\n",
    "\n",
    "#resizing the image to find spaces better\n",
    "image = cv2.resize(image, dsize=(width*10,height*3))\n",
    "\n",
    "#grayscale\n",
    "gray = cv2.cvtColor(image,cv2.COLOR_BGR2GRAY)\n",
    "\n",
    "#binary\n",
    "ret,thresh = cv2.threshold(gray,127,255,cv2.THRESH_BINARY_INV)\n",
    "print('threshold value',ret)\n",
    "\n",
    "#dilation/Thinning\n",
    "kernel = np.ones((5,5), np.uint8)\n",
    "img_dilation = cv2.dilate(thresh, kernel, iterations=2)\n",
    "\n",
    "#adding GaussianBlur\n",
    "gsblur=cv2.GaussianBlur(img_dilation,(3,3),0)\n",
    "\n",
    "#find contours\n",
    "ctrs, hier = cv2.findContours(gsblur.copy(), cv2.RETR_EXTERNAL, cv2.CHAIN_APPROX_SIMPLE)\n",
    "\n",
    "margin=0\n",
    "\n",
    "sorted_ctrs = sorted(ctrs, key=lambda ctr: cv2.minAreaRect(ctr)[0])\n",
    "\n",
    "pchl = list()\n",
    "dp = image.copy()\n",
    "for i, ctr in enumerate(sorted_ctrs):\n",
    "    # Get bounding box\n",
    "    x, y, w, h = cv2.boundingRect(ctr)\n",
    "    cv2.rectangle(dp,(x-margin,y-margin),( x + w + margin, y + h + margin ),(0,0,255),1)\n",
    "    \n",
    "plt.imshow(dp)"
   ]
  },
  {
   "cell_type": "code",
   "execution_count": 40,
   "id": "incredible-nashville",
   "metadata": {
    "execution": {
     "iopub.execute_input": "2021-05-10T04:14:08.172000Z",
     "iopub.status.busy": "2021-05-10T04:14:08.171215Z",
     "iopub.status.idle": "2021-05-10T04:14:08.941194Z",
     "shell.execute_reply": "2021-05-10T04:14:08.940547Z"
    },
    "papermill": {
     "duration": 7.000185,
     "end_time": "2021-05-10T04:14:08.941483",
     "exception": false,
     "start_time": "2021-05-10T04:14:01.941298",
     "status": "completed"
    },
    "tags": []
   },
   "outputs": [
    {
     "name": "stdout",
     "output_type": "stream",
     "text": [
      "All possible character in image 0 are:  S\n",
      "All possible character in image 1 are:  T\n",
      "All possible character in image 2 are:  0/O/o\n",
      "All possible character in image 3 are:  P/p\n"
     ]
    },
    {
     "data": {
      "image/png": "[encoded data removed]",
      "text/plain": [
       "<Figure size 72x288 with 4 Axes>"
      ]
     },
     "metadata": {
      "needs_background": "light"
     },
     "output_type": "display_data"
    },
    {
     "name": "stdout",
     "output_type": "stream",
     "text": [
      "Predicted String: ST0P\n"
     ]
    }
   ],
   "source": [
    "m = list()\n",
    "ls=list()\n",
    "for i, ctr in enumerate(sorted_ctrs):\n",
    "    print('All possible character in image '+str(i)+' are: ',end=' ')\n",
    "    # Get bounding box\n",
    "    x, y, w, h = cv2.boundingRect(ctr)\n",
    "    # Getting ROI\n",
    "    roi = image[y-10:y+h+10, x-10:x+w+10]\n",
    "    roi = cv2.resize(roi, dsize=(28,28), interpolation=cv2.INTER_AREA)\n",
    "    #inter_cubic -> for increasing\n",
    "    #inter_area  -> for shrinking\n",
    "    roi = cv2.cvtColor(roi,cv2.COLOR_BGR2GRAY)\n",
    "    \n",
    "    roi = np.array(roi)\n",
    "    t = np.copy(roi)\n",
    "    t = t / 255.0\n",
    "    t = 1-t\n",
    "    t = t.reshape(1,28,28,1)\n",
    "    m.append(roi)\n",
    "    pred = np.argmax(model.predict(t), axis=-1)\n",
    "    pchl.append(pred)\n",
    "    l = model.predict(t)\n",
    "    o=np.argwhere(l>0.1)\n",
    "    ans=\"\"\n",
    "    for c in range(len(o)):\n",
    "        ans=ans+characters[o[c][1]]\n",
    "        print(characters[o[c][1]],end=\"\")\n",
    "        if(c!=len(o)-1):\n",
    "            ans=ans+'/'\n",
    "            print('/',end=\"\")\n",
    "    ls.append(ans)\n",
    "    print()\n",
    "    \n",
    "pcw = list()\n",
    "interp = 'bilinear'\n",
    "fig, axs = plt.subplots(nrows=len(sorted_ctrs), sharex=True, figsize=(1,len(sorted_ctrs)))\n",
    "for i in range(len(pchl)):\n",
    "    ans=\"\"\n",
    "    for c in range(len(o)):\n",
    "        ans=ans+characters[o[c][1]]\n",
    "        if(c!=len(o)-1):\n",
    "            ans=ans+'/'\n",
    "\n",
    "    pcw.append(characters[pchl[i][0]])\n",
    "    axs[i].set_title('===>Character in image is: '+ls[i],x=3.3,y=0.24)\n",
    "#    axs[i].set_title('-------> predicted letter: '+characters[pchl[i][0]], x=2.5,y=0.24)\n",
    "    axs[i].imshow(m[i], interpolation=interp)\n",
    "\n",
    "plt.show()\n",
    "\n",
    "predstring = ''.join(pcw)\n",
    "print('Predicted String: '+predstring)"
   ]
  },
  {
   "cell_type": "code",
   "execution_count": null,
   "id": "tamil-wichita",
   "metadata": {
    "papermill": {
     "duration": 6.323174,
     "end_time": "2021-05-10T04:19:15.117684",
     "exception": false,
     "start_time": "2021-05-10T04:19:08.794510",
     "status": "completed"
    },
    "tags": []
   },
   "outputs": [],
   "source": []
  },
  {
   "cell_type": "code",
   "execution_count": null,
   "id": "rocky-yugoslavia",
   "metadata": {
    "papermill": {
     "duration": 6.283095,
     "end_time": "2021-05-10T04:19:27.711180",
     "exception": false,
     "start_time": "2021-05-10T04:19:21.428085",
     "status": "completed"
    },
    "tags": []
   },
   "outputs": [],
   "source": []
  }
 ],
 "metadata": {
  "kernelspec": {
   "display_name": "Python 3 (ipykernel)",
   "language": "python",
   "name": "python3"
  },
  "language_info": {
   "codemirror_mode": {
    "name": "ipython",
    "version": 3
   },
   "file_extension": ".py",
   "mimetype": "text/x-python",
   "name": "python",
   "nbconvert_exporter": "python",
   "pygments_lexer": "ipython3",
   "version": "3.9.7"
  },
  "papermill": {
   "default_parameters": {},
   "duration": 3897.26549,
   "end_time": "2021-05-10T04:19:35.791030",
   "environment_variables": {},
   "exception": null,
   "input_path": "__notebook__.ipynb",
   "output_path": "__notebook__.ipynb",
   "parameters": {},
   "start_time": "2021-05-10T03:14:38.525540",
   "version": "2.3.2"
  }
 },
 "nbformat": 4,
 "nbformat_minor": 5
}
